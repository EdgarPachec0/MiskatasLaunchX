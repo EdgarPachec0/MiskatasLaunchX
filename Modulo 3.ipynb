{
 "cells": [
  {
   "cell_type": "markdown",
   "metadata": {},
   "source": [
    "Ejercicio 1"
   ]
  },
  {
   "cell_type": "markdown",
   "metadata": {},
   "source": [
    "# Declaraciones if, else y elif\n"
   ]
  },
  {
   "cell_type": "code",
   "execution_count": null,
   "metadata": {},
   "outputs": [],
   "source": [
    "velasteroide = 49\n",
    "if velasteroide >=25:\n",
    "    print(\"¡Un asteroide se acerca a la tierra!\")\n",
    "else:\n",
    "    print(\"No hay asteroides acercándose\")"
   ]
  },
  {
   "cell_type": "code",
   "execution_count": null,
   "metadata": {},
   "outputs": [],
   "source": [
    "velasteroide = 19\n",
    "if velasteroide >= 25:\n",
    "    print(\"Una estrella fugaz se puede avistar\")\n",
    "else:\n",
    "    print(\"No ha pasao nada\")"
   ]
  },
  {
   "cell_type": "markdown",
   "metadata": {},
   "source": [
    "Ejercicio 2"
   ]
  },
  {
   "cell_type": "markdown",
   "metadata": {},
   "source": [
    "# Operadores and y or"
   ]
  },
  {
   "cell_type": "code",
   "execution_count": null,
   "metadata": {},
   "outputs": [],
   "source": [
    "velasteroide = 25\n",
    "tamanoasteroide = 40\n",
    "if velasteroide > 25 and tamanoasteroide > 25:\n",
    "    print(\"¡Un asteroide se acerca a la tierra!\")\n",
    "elif velasteroide >= 20:\n",
    "    print(\"Una estrella fugaz se puede avistar\")\n",
    "elif tamanoasteroide < 25:\n",
    "    print(\"No ha pasao nada\")\n",
    "else:\n",
    "    print(\"No ha pasao nada\")"
   ]
  }
 ],
 "metadata": {
  "interpreter": {
   "hash": "59a18f5b7e2285f48c30d373e8ec41f04a12e16491c66999661a065ead005b45"
  },
  "kernelspec": {
   "display_name": "Python 3.10.2 64-bit (windows store)",
   "language": "python",
   "name": "python3"
  },
  "language_info": {
   "name": "python",
   "version": "3.10.2"
  },
  "orig_nbformat": 4
 },
 "nbformat": 4,
 "nbformat_minor": 2
}
